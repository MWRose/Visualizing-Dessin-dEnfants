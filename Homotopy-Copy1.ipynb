{
 "cells": [
  {
   "cell_type": "code",
   "execution_count": 2,
   "metadata": {},
   "outputs": [
    {
     "name": "stderr",
     "output_type": "stream",
     "text": [
      "\u001b[32m\u001b[1m    Updating\u001b[22m\u001b[39m registry at `~/.julia/registries/General`\n",
      "\u001b[32m\u001b[1m    Updating\u001b[22m\u001b[39m git-repo `https://github.com/JuliaRegistries/General.git`\n",
      "\u001b[32m\u001b[1m   Resolving\u001b[22m\u001b[39m package versions...\n",
      "\u001b[32m\u001b[1m  No Changes\u001b[22m\u001b[39m to `~/.julia/environments/v1.7/Project.toml`\n",
      "\u001b[32m\u001b[1m  No Changes\u001b[22m\u001b[39m to `~/.julia/environments/v1.7/Manifest.toml`\n",
      "\u001b[32m\u001b[1m   Resolving\u001b[22m\u001b[39m package versions...\n",
      "\u001b[32m\u001b[1m  No Changes\u001b[22m\u001b[39m to `~/.julia/environments/v1.7/Project.toml`\n",
      "\u001b[32m\u001b[1m  No Changes\u001b[22m\u001b[39m to `~/.julia/environments/v1.7/Manifest.toml`\n",
      "\u001b[32m\u001b[1m   Resolving\u001b[22m\u001b[39m package versions...\n",
      "\u001b[32m\u001b[1m  No Changes\u001b[22m\u001b[39m to `~/.julia/environments/v1.7/Project.toml`\n",
      "\u001b[32m\u001b[1m  No Changes\u001b[22m\u001b[39m to `~/.julia/environments/v1.7/Manifest.toml`\n",
      "\u001b[32m\u001b[1m   Resolving\u001b[22m\u001b[39m package versions...\n",
      "\u001b[32m\u001b[1m  No Changes\u001b[22m\u001b[39m to `~/.julia/environments/v1.7/Project.toml`\n",
      "\u001b[32m\u001b[1m  No Changes\u001b[22m\u001b[39m to `~/.julia/environments/v1.7/Manifest.toml`\n",
      "\u001b[32m\u001b[1m   Resolving\u001b[22m\u001b[39m package versions...\n",
      "\u001b[32m\u001b[1m  No Changes\u001b[22m\u001b[39m to `~/.julia/environments/v1.7/Project.toml`\n",
      "\u001b[32m\u001b[1m  No Changes\u001b[22m\u001b[39m to `~/.julia/environments/v1.7/Manifest.toml`\n",
      "\u001b[32m\u001b[1m   Resolving\u001b[22m\u001b[39m package versions...\n",
      "\u001b[32m\u001b[1m  No Changes\u001b[22m\u001b[39m to `~/.julia/environments/v1.7/Project.toml`\n",
      "\u001b[32m\u001b[1m  No Changes\u001b[22m\u001b[39m to `~/.julia/environments/v1.7/Manifest.toml`\n"
     ]
    }
   ],
   "source": [
    "import Pkg\n",
    "\n",
    "Pkg.add(\"HomotopyContinuation\")\n",
    "Pkg.add(\"Plots\")\n",
    "Pkg.add(\"PyPlot\")\n",
    "Pkg.add(\"DataFrames\")\n",
    "Pkg.add(\"CSV\")\n",
    "Pkg.add(\"SymPy\")\n",
    "# Pkg.add(\"Symbolics\")"
   ]
  },
  {
   "cell_type": "code",
   "execution_count": 2,
   "metadata": {},
   "outputs": [
    {
     "data": {
      "text/plain": [
       "v\"1.7.1\""
      ]
     },
     "execution_count": 2,
     "metadata": {},
     "output_type": "execute_result"
    }
   ],
   "source": [
    "VERSION"
   ]
  },
  {
   "cell_type": "code",
   "execution_count": 3,
   "metadata": {},
   "outputs": [],
   "source": [
    "using HomotopyContinuation\n",
    "using Plots\n",
    "using DelimitedFiles\n",
    "using DataFrames\n",
    "using CSV\n",
    "using SymPy\n",
    "# using Symbolics"
   ]
  },
  {
   "cell_type": "code",
   "execution_count": null,
   "metadata": {},
   "outputs": [],
   "source": []
  },
  {
   "cell_type": "code",
   "execution_count": null,
   "metadata": {},
   "outputs": [],
   "source": []
  },
  {
   "cell_type": "code",
   "execution_count": 4,
   "metadata": {},
   "outputs": [
    {
     "data": {
      "text/plain": [
       "2-element Vector{Any}:\n",
       " 2.2420775429197073e-44 + 0.7071067811865476im\n",
       " 2.2420775429197073e-44 - 0.7071067811865475im"
      ]
     },
     "execution_count": 4,
     "metadata": {},
     "output_type": "execute_result"
    }
   ],
   "source": [
    "function get_roots(f)\n",
    "    @var y\n",
    "    roots = []\n",
    "    # define the polynomials\n",
    "    F = System([f])\n",
    "    result = HomotopyContinuation.solve(F)\n",
    "    for root in results(result)\n",
    "        push!(roots, root.solution[1])\n",
    "    end\n",
    "    return roots\n",
    "end\n",
    "\n",
    "@var m\n",
    "# get_roots(m^2 + 1/2)\n",
    "get_roots(m^2 + 1/2)"
   ]
  },
  {
   "cell_type": "code",
   "execution_count": 41,
   "metadata": {},
   "outputs": [
    {
     "data": {
      "text/latex": [
       "$$ (1 + t^15)^2 $$"
      ],
      "text/plain": [
       "(1 + t^15)^2"
      ]
     },
     "execution_count": 41,
     "metadata": {},
     "output_type": "execute_result"
    }
   ],
   "source": [
    "h = 0.0001\n",
    "# n=5\n",
    "num = 15\n",
    "\n",
    "\n",
    "@var t\n",
    "n = (4*(t^num))\n",
    "d = (t^num + 1)^2\n",
    "\n",
    "\n",
    "\n",
    "\n",
    "\n",
    "\n"
   ]
  },
  {
   "cell_type": "code",
   "execution_count": 42,
   "metadata": {},
   "outputs": [
    {
     "data": {
      "text/latex": [
       "$15$"
      ],
      "text/plain": [
       "15"
      ]
     },
     "execution_count": 42,
     "metadata": {},
     "output_type": "execute_result"
    }
   ],
   "source": [
    "x = symbols(\"x\") \n",
    "belyi =   (4*(x^num)) / (x^num + 1)^2\n",
    "# diff(n/d)\n",
    "     # PyObject x\n",
    "# SymPy.diff(n)\n",
    "typeof(n)\n",
    "# ex = diff(belyi)\n",
    "\n",
    "\n",
    "body = convert(Expr, belyi)\n",
    "syms = Symbol.(free_symbols(belyi))\n",
    "bt = eval(Expr(:function, Expr(:call, gensym(), syms...), body))\n",
    "\n",
    "ex = diff(belyi)\n",
    "bodydiff = convert(Expr, ex)\n",
    "symsdiff = Symbol.(free_symbols(ex))\n",
    "dt = eval(Expr(:function, Expr(:call, gensym(), syms...), bodydiff))\n",
    "SymPy.degree(belyi)"
   ]
  },
  {
   "cell_type": "code",
   "execution_count": 43,
   "metadata": {},
   "outputs": [],
   "source": [
    "\n",
    "\n",
    "\n",
    "\n",
    "# bt(t) = (4*(t^n)) / (t^n + 1)^2\n",
    "# dt(t) = -1 * (((4 * n * (t^(n-1)) * (t^n - 1))) / ((t^n+1)^3))\n"
   ]
  },
  {
   "cell_type": "code",
   "execution_count": 44,
   "metadata": {},
   "outputs": [
    {
     "data": {
      "text/plain": [
       "stereographic (generic function with 1 method)"
      ]
     },
     "execution_count": 44,
     "metadata": {},
     "output_type": "execute_result"
    }
   ],
   "source": [
    "function stereographic(c)\n",
    "    x = (2 * real(c)) / (abs(c) ^ 2 + 1)\n",
    "    y = (2 * imag(c)) / (abs(c) ^ 2 + 1)\n",
    "    z = (abs(c)^2 - 1) / (abs(c)^2 + 1)\n",
    "    return (x, y, z)\n",
    "end"
   ]
  },
  {
   "cell_type": "code",
   "execution_count": 65,
   "metadata": {},
   "outputs": [
    {
     "name": "stdout",
     "output_type": "stream",
     "text": [
      "ROOTS FOUND: 30"
     ]
    }
   ],
   "source": [
    "function rk4(start, stop, initialQ, initialE)\n",
    "    points = []\n",
    "    q = initialQ\n",
    "    e = initialE\n",
    "    push!(points, e)\n",
    "    while q < stop\n",
    "        nexth = abs(dt(e)) * h\n",
    "        nextq = q + nexth\n",
    "        \n",
    "        \n",
    "        k1 = nexth * (1/dt(e))\n",
    "        k2 = nexth * (1/dt(e + k1/2))\n",
    "        k3 = nexth * (1/dt(e + k2/2))\n",
    "        k4 = nexth * (1/dt(e + k3))\n",
    "        \n",
    "        nexte = e + (1/6) * (k1 + 2*k2 + 2*k3 + k4)\n",
    "        push!(points, nexte)\n",
    "        q = nextq\n",
    "\n",
    "        \n",
    "        e = nexte\n",
    "    end\n",
    "    q = initialQ\n",
    "    e = initialE\n",
    "    \n",
    "    while q > .00000000000000000001\n",
    "        nexth = abs(dt(e)) * h\n",
    "        nextq = q - nexth\n",
    "        \n",
    "        k1 = nexth * (1/dt(e))\n",
    "        k2 = nexth * (1/dt(e - k1/2))\n",
    "        k3 = nexth * (1/dt(e - k2/2))\n",
    "        k4 = nexth * (1/dt(e - k3))\n",
    "        \n",
    "        nexte = e - (1/6) * (k1 + 2*k2 + 2*k3 + k4)\n",
    "        push!(points, nexte)\n",
    "        q = nextq\n",
    "        e = nexte\n",
    "    end\n",
    "    return points\n",
    "end\n",
    "\n",
    "@var x\n",
    "points = []\n",
    "\n",
    "roots = get_roots(n - 1/2 * d)\n",
    "print(\"ROOTS FOUND: $(length(roots))\")\n",
    "\n",
    "for root in roots\n",
    "\n",
    "    edge = rk4(0, 1, 0.5, root)\n",
    "    points = vcat(points, edge)\n",
    "end"
   ]
  },
  {
   "cell_type": "code",
   "execution_count": null,
   "metadata": {},
   "outputs": [],
   "source": []
  },
  {
   "cell_type": "code",
   "execution_count": null,
   "metadata": {},
   "outputs": [],
   "source": [
    "\n",
    "xs = []\n",
    "ys = []\n",
    "zs = []\n",
    "for point in points\n",
    "    x, y, z = stereographic(point)\n",
    "    x = round(x, digits=3)\n",
    "    y = round(y, digits=3)\n",
    "    z = round(z, digits=3)\n",
    "    push!(xs, x)\n",
    "    push!(ys, y)\n",
    "    push!(zs, z)\n",
    "end\n",
    "\n",
    "# df = DataFrame(X=xs, Y=ys, Z=zs)\n",
    "# CSV.write(\"test.csv\", df)\n",
    "\n",
    "scatter(xs[1:1000:length(xs)], ys[1:1000:length(xs)], zs[1:1000:length(xs)])\n"
   ]
  },
  {
   "cell_type": "code",
   "execution_count": null,
   "metadata": {},
   "outputs": [],
   "source": []
  },
  {
   "cell_type": "code",
   "execution_count": 72,
   "metadata": {},
   "outputs": [],
   "source": [
    "sampling = 1000\n",
    "l = length(xs)/sampling\n",
    "io = open(\"juliaPCD.pcd\", \"w\"); \n",
    "write(io,\n",
    "\"\n",
    "# .PCD v0.7 - Point Cloud Data file format\n",
    "VERSION 0.7\n",
    "FIELDS x y z\n",
    "SIZE 4 4 4\n",
    "TYPE F F F\n",
    "COUNT 1 1 1\n",
    "WIDTH $l\n",
    "HEIGHT 1\n",
    "VIEWPOINT 0 0 0 1 0 0 0\n",
    "POINTS $l\n",
    "DATA ascii\\n\n",
    "\")\n",
    "    for i in 1:sampling:(length(xs))\n",
    "        write(io, \"$(xs[i]) $(ys[i]) $(zs[i])\\n\")\n",
    "    end\n",
    "\n",
    "close(io);\n"
   ]
  },
  {
   "cell_type": "code",
   "execution_count": 80,
   "metadata": {},
   "outputs": [
    {
     "data": {
      "text/plain": [
       "4134351-element Vector{Any}:\n",
       " 0.993\n",
       " 0.993\n",
       " 0.993\n",
       " 0.993\n",
       " 0.993\n",
       " 0.993\n",
       " 0.993\n",
       " 0.993\n",
       " 0.993\n",
       " 0.993\n",
       " 0.993\n",
       " 0.993\n",
       " 0.993\n",
       " ⋮\n",
       " 0.205\n",
       " 0.205\n",
       " 0.206\n",
       " 0.206\n",
       " 0.206\n",
       " 0.207\n",
       " 0.207\n",
       " 0.207\n",
       " 0.208\n",
       " 0.208\n",
       " 0.209\n",
       " 0.209"
      ]
     },
     "execution_count": 80,
     "metadata": {},
     "output_type": "execute_result"
    }
   ],
   "source": [
    "xs[1:2:length(xs)]"
   ]
  },
  {
   "cell_type": "code",
   "execution_count": null,
   "metadata": {},
   "outputs": [],
   "source": []
  },
  {
   "cell_type": "code",
   "execution_count": null,
   "metadata": {},
   "outputs": [],
   "source": []
  },
  {
   "cell_type": "code",
   "execution_count": null,
   "metadata": {},
   "outputs": [],
   "source": []
  },
  {
   "cell_type": "code",
   "execution_count": null,
   "metadata": {},
   "outputs": [],
   "source": []
  }
 ],
 "metadata": {
  "kernelspec": {
   "display_name": "Julia 1.7.1",
   "language": "julia",
   "name": "julia-1.7"
  },
  "language_info": {
   "file_extension": ".jl",
   "mimetype": "application/julia",
   "name": "julia",
   "version": "1.7.1"
  }
 },
 "nbformat": 4,
 "nbformat_minor": 4
}
